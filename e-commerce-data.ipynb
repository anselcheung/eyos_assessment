{
 "cells": [
  {
   "cell_type": "markdown",
   "id": "baaedfa7-790d-4c9a-a275-eb639f6873b7",
   "metadata": {},
   "source": [
    "# E-Commerce Data"
   ]
  },
  {
   "cell_type": "markdown",
   "id": "0f678b76-68b0-4d1e-8b87-c7860a06bfbb",
   "metadata": {
    "tags": []
   },
   "source": [
    "## Data exploraton\n",
    "\n",
    "Data is E-commerce sales data from Kaggle: <https://www.kaggle.com/datasets/carrie1/ecommerce-data?resource=download>"
   ]
  },
  {
   "cell_type": "code",
   "execution_count": 57,
   "id": "5d6be0f8-385c-4fe5-84f2-4b8063503414",
   "metadata": {
    "tags": []
   },
   "outputs": [],
   "source": [
    "import pandas as pd"
   ]
  },
  {
   "cell_type": "code",
   "execution_count": 58,
   "id": "2c2891a1-1491-4828-aa2f-401e1e7bbc91",
   "metadata": {
    "tags": []
   },
   "outputs": [],
   "source": [
    "data = pd.read_csv('e-commerce-data.csv', encoding = \"ISO-8859-1\")"
   ]
  },
  {
   "cell_type": "code",
   "execution_count": 59,
   "id": "42c5b3cb-d2c1-4b89-bde3-80bc1e5df850",
   "metadata": {
    "tags": []
   },
   "outputs": [
    {
     "data": {
      "text/html": [
       "<div>\n",
       "<style scoped>\n",
       "    .dataframe tbody tr th:only-of-type {\n",
       "        vertical-align: middle;\n",
       "    }\n",
       "\n",
       "    .dataframe tbody tr th {\n",
       "        vertical-align: top;\n",
       "    }\n",
       "\n",
       "    .dataframe thead th {\n",
       "        text-align: right;\n",
       "    }\n",
       "</style>\n",
       "<table border=\"1\" class=\"dataframe\">\n",
       "  <thead>\n",
       "    <tr style=\"text-align: right;\">\n",
       "      <th></th>\n",
       "      <th>InvoiceNo</th>\n",
       "      <th>StockCode</th>\n",
       "      <th>Description</th>\n",
       "      <th>Quantity</th>\n",
       "      <th>InvoiceDate</th>\n",
       "      <th>UnitPrice</th>\n",
       "      <th>CustomerID</th>\n",
       "      <th>Country</th>\n",
       "    </tr>\n",
       "  </thead>\n",
       "  <tbody>\n",
       "    <tr>\n",
       "      <th>0</th>\n",
       "      <td>536365</td>\n",
       "      <td>85123A</td>\n",
       "      <td>WHITE HANGING HEART T-LIGHT HOLDER</td>\n",
       "      <td>6</td>\n",
       "      <td>12/1/2010 8:26</td>\n",
       "      <td>2.55</td>\n",
       "      <td>17850.0</td>\n",
       "      <td>United Kingdom</td>\n",
       "    </tr>\n",
       "    <tr>\n",
       "      <th>1</th>\n",
       "      <td>536365</td>\n",
       "      <td>71053</td>\n",
       "      <td>WHITE METAL LANTERN</td>\n",
       "      <td>6</td>\n",
       "      <td>12/1/2010 8:26</td>\n",
       "      <td>3.39</td>\n",
       "      <td>17850.0</td>\n",
       "      <td>United Kingdom</td>\n",
       "    </tr>\n",
       "    <tr>\n",
       "      <th>2</th>\n",
       "      <td>536365</td>\n",
       "      <td>84406B</td>\n",
       "      <td>CREAM CUPID HEARTS COAT HANGER</td>\n",
       "      <td>8</td>\n",
       "      <td>12/1/2010 8:26</td>\n",
       "      <td>2.75</td>\n",
       "      <td>17850.0</td>\n",
       "      <td>United Kingdom</td>\n",
       "    </tr>\n",
       "    <tr>\n",
       "      <th>3</th>\n",
       "      <td>536365</td>\n",
       "      <td>84029G</td>\n",
       "      <td>KNITTED UNION FLAG HOT WATER BOTTLE</td>\n",
       "      <td>6</td>\n",
       "      <td>12/1/2010 8:26</td>\n",
       "      <td>3.39</td>\n",
       "      <td>17850.0</td>\n",
       "      <td>United Kingdom</td>\n",
       "    </tr>\n",
       "    <tr>\n",
       "      <th>4</th>\n",
       "      <td>536365</td>\n",
       "      <td>84029E</td>\n",
       "      <td>RED WOOLLY HOTTIE WHITE HEART.</td>\n",
       "      <td>6</td>\n",
       "      <td>12/1/2010 8:26</td>\n",
       "      <td>3.39</td>\n",
       "      <td>17850.0</td>\n",
       "      <td>United Kingdom</td>\n",
       "    </tr>\n",
       "  </tbody>\n",
       "</table>\n",
       "</div>"
      ],
      "text/plain": [
       "  InvoiceNo StockCode                          Description  Quantity   \n",
       "0    536365    85123A   WHITE HANGING HEART T-LIGHT HOLDER         6  \\\n",
       "1    536365     71053                  WHITE METAL LANTERN         6   \n",
       "2    536365    84406B       CREAM CUPID HEARTS COAT HANGER         8   \n",
       "3    536365    84029G  KNITTED UNION FLAG HOT WATER BOTTLE         6   \n",
       "4    536365    84029E       RED WOOLLY HOTTIE WHITE HEART.         6   \n",
       "\n",
       "      InvoiceDate  UnitPrice  CustomerID         Country  \n",
       "0  12/1/2010 8:26       2.55     17850.0  United Kingdom  \n",
       "1  12/1/2010 8:26       3.39     17850.0  United Kingdom  \n",
       "2  12/1/2010 8:26       2.75     17850.0  United Kingdom  \n",
       "3  12/1/2010 8:26       3.39     17850.0  United Kingdom  \n",
       "4  12/1/2010 8:26       3.39     17850.0  United Kingdom  "
      ]
     },
     "execution_count": 59,
     "metadata": {},
     "output_type": "execute_result"
    }
   ],
   "source": [
    "data.head()"
   ]
  },
  {
   "cell_type": "code",
   "execution_count": 62,
   "id": "60a8ecb0-33e7-4081-b9e2-6b88982f403f",
   "metadata": {
    "tags": []
   },
   "outputs": [],
   "source": [
    "data.dropna(inplace=True)"
   ]
  },
  {
   "cell_type": "code",
   "execution_count": 63,
   "id": "cdbf57ec-8e44-4de1-a5dd-2ed6052df685",
   "metadata": {
    "tags": []
   },
   "outputs": [
    {
     "data": {
      "text/plain": [
       "3896"
      ]
     },
     "execution_count": 63,
     "metadata": {},
     "output_type": "execute_result"
    }
   ],
   "source": [
    "len(data.Description.unique().tolist())"
   ]
  },
  {
   "cell_type": "code",
   "execution_count": 64,
   "id": "436de7e3-4e5f-4f57-b1e3-30c85d33785c",
   "metadata": {
    "tags": []
   },
   "outputs": [
    {
     "name": "stdout",
     "output_type": "stream",
     "text": [
      "3896\n"
     ]
    }
   ],
   "source": [
    "text_file = open(\"english_labelling.txt\", \"w\")\n",
    "product_list = data.Description.unique().tolist()\n",
    "product_list = list(set(product_list))\n",
    "print(len(product_list))\n",
    "n = text_file.write('\\n'.join(product_list))\n",
    "text_file.close()"
   ]
  },
  {
   "cell_type": "code",
   "execution_count": 4,
   "id": "d73d5933-2566-43bf-b421-afd765325a27",
   "metadata": {
    "tags": []
   },
   "outputs": [
    {
     "name": "stdout",
     "output_type": "stream",
     "text": [
      "<class 'pandas.core.frame.DataFrame'>\n",
      "RangeIndex: 541909 entries, 0 to 541908\n",
      "Data columns (total 8 columns):\n",
      " #   Column       Non-Null Count   Dtype  \n",
      "---  ------       --------------   -----  \n",
      " 0   InvoiceNo    541909 non-null  object \n",
      " 1   StockCode    541909 non-null  object \n",
      " 2   Description  540455 non-null  object \n",
      " 3   Quantity     541909 non-null  int64  \n",
      " 4   InvoiceDate  541909 non-null  object \n",
      " 5   UnitPrice    541909 non-null  float64\n",
      " 6   CustomerID   406829 non-null  float64\n",
      " 7   Country      541909 non-null  object \n",
      "dtypes: float64(2), int64(1), object(5)\n",
      "memory usage: 33.1+ MB\n"
     ]
    }
   ],
   "source": [
    "data.info()"
   ]
  },
  {
   "cell_type": "code",
   "execution_count": 5,
   "id": "5b6ccc70-6e58-44f0-b253-e0dfc35e817e",
   "metadata": {
    "tags": []
   },
   "outputs": [],
   "source": [
    "# remove rows where there are no description\n",
    "data = data[~pd.isna(data.Description)]"
   ]
  },
  {
   "cell_type": "code",
   "execution_count": 6,
   "id": "c62703c7-60af-43ea-97a4-86724df7cbfe",
   "metadata": {
    "tags": []
   },
   "outputs": [
    {
     "data": {
      "text/plain": [
       "(540455, 8)"
      ]
     },
     "execution_count": 6,
     "metadata": {},
     "output_type": "execute_result"
    }
   ],
   "source": [
    "data.shape"
   ]
  },
  {
   "cell_type": "code",
   "execution_count": 7,
   "id": "247bfaa5-b899-4bac-b656-7db435192466",
   "metadata": {
    "tags": []
   },
   "outputs": [
    {
     "data": {
      "text/plain": [
       "(3958, 4223)"
      ]
     },
     "execution_count": 7,
     "metadata": {},
     "output_type": "execute_result"
    }
   ],
   "source": [
    "data.StockCode.nunique(), data.Description.nunique()"
   ]
  },
  {
   "cell_type": "code",
   "execution_count": 8,
   "id": "a1892ad2-71cd-4c05-8676-1f5b483bd3cd",
   "metadata": {
    "tags": []
   },
   "outputs": [],
   "source": [
    "# convert all StockCodes to uppercase\n",
    "data['StockCode'] = data['StockCode'].apply(lambda x: x.upper())"
   ]
  },
  {
   "cell_type": "code",
   "execution_count": 9,
   "id": "613afef0-aa44-4002-9ebf-9f75603e393b",
   "metadata": {
    "tags": []
   },
   "outputs": [],
   "source": [
    "# find those stock code where there are > 1 unique descriptions\n",
    "non_unique_desc = data.groupby('Description').StockCode.nunique().reset_index()\n",
    "non_unique_desc = non_unique_desc[non_unique_desc.StockCode > 1]\n",
    "non_unique_desc = non_unique_desc.Description.tolist()"
   ]
  },
  {
   "cell_type": "code",
   "execution_count": 10,
   "id": "5abc3f9c-4e78-4745-a296-d6fcd331f494",
   "metadata": {
    "tags": []
   },
   "outputs": [
    {
     "data": {
      "text/plain": [
       "60"
      ]
     },
     "execution_count": 10,
     "metadata": {},
     "output_type": "execute_result"
    }
   ],
   "source": [
    "len(non_unique_desc)"
   ]
  },
  {
   "cell_type": "code",
   "execution_count": 11,
   "id": "c617ffab-5491-4df0-8e3f-3e152b294d12",
   "metadata": {
    "tags": []
   },
   "outputs": [
    {
     "data": {
      "text/html": [
       "<div>\n",
       "<style scoped>\n",
       "    .dataframe tbody tr th:only-of-type {\n",
       "        vertical-align: middle;\n",
       "    }\n",
       "\n",
       "    .dataframe tbody tr th {\n",
       "        vertical-align: top;\n",
       "    }\n",
       "\n",
       "    .dataframe thead th {\n",
       "        text-align: right;\n",
       "    }\n",
       "</style>\n",
       "<table border=\"1\" class=\"dataframe\">\n",
       "  <thead>\n",
       "    <tr style=\"text-align: right;\">\n",
       "      <th></th>\n",
       "      <th>Description</th>\n",
       "      <th>StockCode</th>\n",
       "    </tr>\n",
       "  </thead>\n",
       "  <tbody>\n",
       "    <tr>\n",
       "      <th>0</th>\n",
       "      <td>?</td>\n",
       "      <td>47</td>\n",
       "    </tr>\n",
       "    <tr>\n",
       "      <th>1</th>\n",
       "      <td>??</td>\n",
       "      <td>7</td>\n",
       "    </tr>\n",
       "    <tr>\n",
       "      <th>2</th>\n",
       "      <td>???missing</td>\n",
       "      <td>2</td>\n",
       "    </tr>\n",
       "    <tr>\n",
       "      <th>3</th>\n",
       "      <td>?missing</td>\n",
       "      <td>2</td>\n",
       "    </tr>\n",
       "    <tr>\n",
       "      <th>4</th>\n",
       "      <td>AMAZON</td>\n",
       "      <td>3</td>\n",
       "    </tr>\n",
       "    <tr>\n",
       "      <th>5</th>\n",
       "      <td>Adjustment</td>\n",
       "      <td>2</td>\n",
       "    </tr>\n",
       "    <tr>\n",
       "      <th>6</th>\n",
       "      <td>Amazon</td>\n",
       "      <td>7</td>\n",
       "    </tr>\n",
       "    <tr>\n",
       "      <th>7</th>\n",
       "      <td>CHECK</td>\n",
       "      <td>3</td>\n",
       "    </tr>\n",
       "    <tr>\n",
       "      <th>8</th>\n",
       "      <td>COLOURING PENCILS BROWN TUBE</td>\n",
       "      <td>2</td>\n",
       "    </tr>\n",
       "    <tr>\n",
       "      <th>9</th>\n",
       "      <td>COLUMBIAN CANDLE RECTANGLE</td>\n",
       "      <td>2</td>\n",
       "    </tr>\n",
       "    <tr>\n",
       "      <th>10</th>\n",
       "      <td>COLUMBIAN CANDLE ROUND</td>\n",
       "      <td>2</td>\n",
       "    </tr>\n",
       "    <tr>\n",
       "      <th>11</th>\n",
       "      <td>Damaged</td>\n",
       "      <td>14</td>\n",
       "    </tr>\n",
       "    <tr>\n",
       "      <th>12</th>\n",
       "      <td>Dotcom sales</td>\n",
       "      <td>2</td>\n",
       "    </tr>\n",
       "    <tr>\n",
       "      <th>13</th>\n",
       "      <td>EAU DE NILE JEWELLED PHOTOFRAME</td>\n",
       "      <td>2</td>\n",
       "    </tr>\n",
       "    <tr>\n",
       "      <th>14</th>\n",
       "      <td>FRENCH FLORAL CUSHION COVER</td>\n",
       "      <td>2</td>\n",
       "    </tr>\n",
       "    <tr>\n",
       "      <th>15</th>\n",
       "      <td>FRENCH LATTICE CUSHION COVER</td>\n",
       "      <td>2</td>\n",
       "    </tr>\n",
       "    <tr>\n",
       "      <th>16</th>\n",
       "      <td>FROSTED WHITE BASE</td>\n",
       "      <td>2</td>\n",
       "    </tr>\n",
       "    <tr>\n",
       "      <th>17</th>\n",
       "      <td>Found</td>\n",
       "      <td>8</td>\n",
       "    </tr>\n",
       "    <tr>\n",
       "      <th>18</th>\n",
       "      <td>METAL SIGN,CUPCAKE SINGLE HOOK</td>\n",
       "      <td>3</td>\n",
       "    </tr>\n",
       "    <tr>\n",
       "      <th>19</th>\n",
       "      <td>PAPER LANTERN 9 POINT SNOW STAR</td>\n",
       "      <td>2</td>\n",
       "    </tr>\n",
       "    <tr>\n",
       "      <th>20</th>\n",
       "      <td>PINK FAIRY CAKE CUSHION COVER</td>\n",
       "      <td>2</td>\n",
       "    </tr>\n",
       "    <tr>\n",
       "      <th>21</th>\n",
       "      <td>PINK FLOCK GLASS CANDLEHOLDER</td>\n",
       "      <td>2</td>\n",
       "    </tr>\n",
       "    <tr>\n",
       "      <th>22</th>\n",
       "      <td>PINK FLOWERS RABBIT EASTER</td>\n",
       "      <td>2</td>\n",
       "    </tr>\n",
       "    <tr>\n",
       "      <th>23</th>\n",
       "      <td>RETRO PLASTIC 70'S TRAY</td>\n",
       "      <td>2</td>\n",
       "    </tr>\n",
       "    <tr>\n",
       "      <th>24</th>\n",
       "      <td>RETRO PLASTIC DAISY TRAY</td>\n",
       "      <td>2</td>\n",
       "    </tr>\n",
       "    <tr>\n",
       "      <th>25</th>\n",
       "      <td>RETRO PLASTIC POLKA TRAY</td>\n",
       "      <td>2</td>\n",
       "    </tr>\n",
       "    <tr>\n",
       "      <th>26</th>\n",
       "      <td>ROUND BLUE CLOCK WITH SUCKER</td>\n",
       "      <td>2</td>\n",
       "    </tr>\n",
       "    <tr>\n",
       "      <th>27</th>\n",
       "      <td>SQUARE CHERRY BLOSSOM CABINET</td>\n",
       "      <td>2</td>\n",
       "    </tr>\n",
       "    <tr>\n",
       "      <th>28</th>\n",
       "      <td>STORAGE TIN VINTAGE LEAF</td>\n",
       "      <td>2</td>\n",
       "    </tr>\n",
       "    <tr>\n",
       "      <th>29</th>\n",
       "      <td>Unsaleable, destroyed.</td>\n",
       "      <td>9</td>\n",
       "    </tr>\n",
       "    <tr>\n",
       "      <th>30</th>\n",
       "      <td>WHITE BAMBOO RIBS LAMPSHADE</td>\n",
       "      <td>2</td>\n",
       "    </tr>\n",
       "    <tr>\n",
       "      <th>31</th>\n",
       "      <td>adjustment</td>\n",
       "      <td>15</td>\n",
       "    </tr>\n",
       "    <tr>\n",
       "      <th>32</th>\n",
       "      <td>amazon</td>\n",
       "      <td>5</td>\n",
       "    </tr>\n",
       "    <tr>\n",
       "      <th>33</th>\n",
       "      <td>check</td>\n",
       "      <td>146</td>\n",
       "    </tr>\n",
       "    <tr>\n",
       "      <th>34</th>\n",
       "      <td>counted</td>\n",
       "      <td>2</td>\n",
       "    </tr>\n",
       "    <tr>\n",
       "      <th>35</th>\n",
       "      <td>crushed</td>\n",
       "      <td>2</td>\n",
       "    </tr>\n",
       "    <tr>\n",
       "      <th>36</th>\n",
       "      <td>damaged</td>\n",
       "      <td>43</td>\n",
       "    </tr>\n",
       "    <tr>\n",
       "      <th>37</th>\n",
       "      <td>damages</td>\n",
       "      <td>43</td>\n",
       "    </tr>\n",
       "    <tr>\n",
       "      <th>38</th>\n",
       "      <td>damages wax</td>\n",
       "      <td>2</td>\n",
       "    </tr>\n",
       "    <tr>\n",
       "      <th>39</th>\n",
       "      <td>damages?</td>\n",
       "      <td>5</td>\n",
       "    </tr>\n",
       "    <tr>\n",
       "      <th>40</th>\n",
       "      <td>dotcom</td>\n",
       "      <td>6</td>\n",
       "    </tr>\n",
       "    <tr>\n",
       "      <th>41</th>\n",
       "      <td>ebay</td>\n",
       "      <td>5</td>\n",
       "    </tr>\n",
       "    <tr>\n",
       "      <th>42</th>\n",
       "      <td>found</td>\n",
       "      <td>25</td>\n",
       "    </tr>\n",
       "    <tr>\n",
       "      <th>43</th>\n",
       "      <td>had been put aside</td>\n",
       "      <td>5</td>\n",
       "    </tr>\n",
       "    <tr>\n",
       "      <th>44</th>\n",
       "      <td>incorrect stock entry.</td>\n",
       "      <td>2</td>\n",
       "    </tr>\n",
       "    <tr>\n",
       "      <th>45</th>\n",
       "      <td>mailout</td>\n",
       "      <td>3</td>\n",
       "    </tr>\n",
       "    <tr>\n",
       "      <th>46</th>\n",
       "      <td>missing</td>\n",
       "      <td>3</td>\n",
       "    </tr>\n",
       "    <tr>\n",
       "      <th>47</th>\n",
       "      <td>mixed up</td>\n",
       "      <td>2</td>\n",
       "    </tr>\n",
       "    <tr>\n",
       "      <th>48</th>\n",
       "      <td>returned</td>\n",
       "      <td>2</td>\n",
       "    </tr>\n",
       "    <tr>\n",
       "      <th>49</th>\n",
       "      <td>reverse 21/5/10 adjustment</td>\n",
       "      <td>2</td>\n",
       "    </tr>\n",
       "    <tr>\n",
       "      <th>50</th>\n",
       "      <td>rusty throw away</td>\n",
       "      <td>2</td>\n",
       "    </tr>\n",
       "    <tr>\n",
       "      <th>51</th>\n",
       "      <td>smashed</td>\n",
       "      <td>4</td>\n",
       "    </tr>\n",
       "    <tr>\n",
       "      <th>52</th>\n",
       "      <td>sold as 1</td>\n",
       "      <td>2</td>\n",
       "    </tr>\n",
       "    <tr>\n",
       "      <th>53</th>\n",
       "      <td>sold as set on dotcom</td>\n",
       "      <td>20</td>\n",
       "    </tr>\n",
       "    <tr>\n",
       "      <th>54</th>\n",
       "      <td>stock check</td>\n",
       "      <td>2</td>\n",
       "    </tr>\n",
       "    <tr>\n",
       "      <th>55</th>\n",
       "      <td>test</td>\n",
       "      <td>2</td>\n",
       "    </tr>\n",
       "    <tr>\n",
       "      <th>56</th>\n",
       "      <td>thrown away</td>\n",
       "      <td>9</td>\n",
       "    </tr>\n",
       "    <tr>\n",
       "      <th>57</th>\n",
       "      <td>wet damaged</td>\n",
       "      <td>5</td>\n",
       "    </tr>\n",
       "    <tr>\n",
       "      <th>58</th>\n",
       "      <td>wet pallet</td>\n",
       "      <td>3</td>\n",
       "    </tr>\n",
       "    <tr>\n",
       "      <th>59</th>\n",
       "      <td>wet/rusty</td>\n",
       "      <td>2</td>\n",
       "    </tr>\n",
       "  </tbody>\n",
       "</table>\n",
       "</div>"
      ],
      "text/plain": [
       "                        Description  StockCode\n",
       "0                                 ?         47\n",
       "1                                ??          7\n",
       "2                        ???missing          2\n",
       "3                          ?missing          2\n",
       "4                            AMAZON          3\n",
       "5                        Adjustment          2\n",
       "6                            Amazon          7\n",
       "7                             CHECK          3\n",
       "8      COLOURING PENCILS BROWN TUBE          2\n",
       "9        COLUMBIAN CANDLE RECTANGLE          2\n",
       "10           COLUMBIAN CANDLE ROUND          2\n",
       "11                          Damaged         14\n",
       "12                     Dotcom sales          2\n",
       "13  EAU DE NILE JEWELLED PHOTOFRAME          2\n",
       "14     FRENCH FLORAL CUSHION COVER           2\n",
       "15    FRENCH LATTICE CUSHION COVER           2\n",
       "16              FROSTED WHITE BASE           2\n",
       "17                            Found          8\n",
       "18   METAL SIGN,CUPCAKE SINGLE HOOK          3\n",
       "19  PAPER LANTERN 9 POINT SNOW STAR          2\n",
       "20    PINK FAIRY CAKE CUSHION COVER          2\n",
       "21    PINK FLOCK GLASS CANDLEHOLDER          2\n",
       "22       PINK FLOWERS RABBIT EASTER          2\n",
       "23          RETRO PLASTIC 70'S TRAY          2\n",
       "24         RETRO PLASTIC DAISY TRAY          2\n",
       "25         RETRO PLASTIC POLKA TRAY          2\n",
       "26     ROUND BLUE CLOCK WITH SUCKER          2\n",
       "27    SQUARE CHERRY BLOSSOM CABINET          2\n",
       "28         STORAGE TIN VINTAGE LEAF          2\n",
       "29           Unsaleable, destroyed.          9\n",
       "30      WHITE BAMBOO RIBS LAMPSHADE          2\n",
       "31                       adjustment         15\n",
       "32                           amazon          5\n",
       "33                            check        146\n",
       "34                          counted          2\n",
       "35                          crushed          2\n",
       "36                          damaged         43\n",
       "37                          damages         43\n",
       "38                      damages wax          2\n",
       "39                         damages?          5\n",
       "40                           dotcom          6\n",
       "41                             ebay          5\n",
       "42                            found         25\n",
       "43               had been put aside          5\n",
       "44           incorrect stock entry.          2\n",
       "45                          mailout          3\n",
       "46                          missing          3\n",
       "47                         mixed up          2\n",
       "48                         returned          2\n",
       "49       reverse 21/5/10 adjustment          2\n",
       "50                 rusty throw away          2\n",
       "51                          smashed          4\n",
       "52                        sold as 1          2\n",
       "53            sold as set on dotcom         20\n",
       "54                      stock check          2\n",
       "55                             test          2\n",
       "56                      thrown away          9\n",
       "57                      wet damaged          5\n",
       "58                       wet pallet          3\n",
       "59                        wet/rusty          2"
      ]
     },
     "execution_count": 11,
     "metadata": {},
     "output_type": "execute_result"
    }
   ],
   "source": [
    "interesting_desc = data[data.Description.isin(non_unique_desc)].groupby('Description').StockCode.nunique().reset_index()\n",
    "interesting_desc"
   ]
  },
  {
   "cell_type": "code",
   "execution_count": 12,
   "id": "f2a4e569-e16a-400b-8ee9-1b5c2d8ddd53",
   "metadata": {
    "tags": []
   },
   "outputs": [],
   "source": [
    "# Problematic ones are those that contains lowercase\n",
    "def check_lower(text):\n",
    "    for i in text:\n",
    "        if i.islower():\n",
    "            return 1\n",
    "    else:\n",
    "        return 0\n",
    "    \n",
    "interesting_desc['contains_lowercase'] = interesting_desc['Description'].apply(check_lower)"
   ]
  },
  {
   "cell_type": "code",
   "execution_count": 13,
   "id": "cffd60a9-95bc-4a54-804a-45c2140ab34c",
   "metadata": {
    "tags": []
   },
   "outputs": [
    {
     "data": {
      "text/plain": [
       "['???missing',\n",
       " '?missing',\n",
       " 'Adjustment',\n",
       " 'Amazon',\n",
       " 'Damaged',\n",
       " 'Dotcom sales',\n",
       " 'Found',\n",
       " 'Unsaleable, destroyed.',\n",
       " 'adjustment',\n",
       " 'amazon',\n",
       " 'check',\n",
       " 'counted',\n",
       " 'crushed',\n",
       " 'damaged',\n",
       " 'damages',\n",
       " 'damages wax',\n",
       " 'damages?',\n",
       " 'dotcom',\n",
       " 'ebay',\n",
       " 'found',\n",
       " 'had been put aside',\n",
       " 'incorrect stock entry.',\n",
       " 'mailout',\n",
       " 'missing',\n",
       " 'mixed up',\n",
       " 'returned',\n",
       " 'reverse 21/5/10 adjustment',\n",
       " 'rusty throw away',\n",
       " 'smashed',\n",
       " 'sold as 1',\n",
       " 'sold as set on dotcom',\n",
       " 'stock check',\n",
       " 'test',\n",
       " 'thrown away',\n",
       " 'wet damaged',\n",
       " 'wet pallet',\n",
       " 'wet/rusty',\n",
       " 'CHECK',\n",
       " '?',\n",
       " '??']"
      ]
     },
     "execution_count": 13,
     "metadata": {},
     "output_type": "execute_result"
    }
   ],
   "source": [
    "to_remove_desc = interesting_desc[interesting_desc.contains_lowercase==1].Description.tolist()\n",
    "to_remove_desc += ['CHECK', '?', '??']\n",
    "to_remove_desc"
   ]
  },
  {
   "cell_type": "code",
   "execution_count": 14,
   "id": "7e817ac3-67d8-4570-9b37-228726bdc465",
   "metadata": {
    "tags": []
   },
   "outputs": [],
   "source": [
    "ok_data = data[~data.Description.isin(to_remove_desc)].reset_index()"
   ]
  },
  {
   "cell_type": "code",
   "execution_count": 15,
   "id": "5a81b64e-d508-4b55-8272-f92846932eaf",
   "metadata": {
    "tags": []
   },
   "outputs": [],
   "source": [
    "ok_data = ok_data[['StockCode', 'Description']].drop_duplicates()"
   ]
  },
  {
   "cell_type": "code",
   "execution_count": 16,
   "id": "53df99e7-0938-474e-bf40-b4d7e5e65677",
   "metadata": {
    "tags": []
   },
   "outputs": [
    {
     "data": {
      "text/plain": [
       "(4205, 2)"
      ]
     },
     "execution_count": 16,
     "metadata": {},
     "output_type": "execute_result"
    }
   ],
   "source": [
    "ok_data.shape"
   ]
  },
  {
   "cell_type": "markdown",
   "id": "19956ccd-d164-48f1-9544-a577263b7974",
   "metadata": {
    "tags": []
   },
   "source": [
    "## Convert to embedding"
   ]
  },
  {
   "cell_type": "markdown",
   "id": "b95c4aaf-496e-44d4-9fb5-c59224da6124",
   "metadata": {},
   "source": [
    "### TF-IDF"
   ]
  },
  {
   "cell_type": "code",
   "execution_count": 17,
   "id": "13bd63fd-45ef-4fec-91a4-eb967b482ff8",
   "metadata": {
    "tags": []
   },
   "outputs": [],
   "source": [
    "from sklearn.feature_extraction.text import TfidfVectorizer"
   ]
  },
  {
   "cell_type": "code",
   "execution_count": 18,
   "id": "be519af7-e1f6-4f7e-961f-66d8daee012a",
   "metadata": {
    "tags": []
   },
   "outputs": [
    {
     "data": {
      "text/plain": [
       "['15030',\n",
       " '15034',\n",
       " '15036',\n",
       " '15039',\n",
       " '15044A',\n",
       " '15044B',\n",
       " '15044C',\n",
       " '15044D',\n",
       " '15056BL',\n",
       " '15056N',\n",
       " '15056P',\n",
       " '15058A',\n",
       " '15058B',\n",
       " '15058C',\n",
       " '15060B',\n",
       " '16008',\n",
       " '16010',\n",
       " '16011',\n",
       " '16012',\n",
       " '16014']"
      ]
     },
     "execution_count": 18,
     "metadata": {},
     "output_type": "execute_result"
    }
   ],
   "source": [
    "ok_data.sort_values(by='StockCode').StockCode.unique().tolist()[10:30]"
   ]
  },
  {
   "cell_type": "code",
   "execution_count": 19,
   "id": "8cecafe1-60f8-4359-8f19-311453fd2a2f",
   "metadata": {
    "tags": []
   },
   "outputs": [],
   "source": [
    "group1 = ['15056BL', '15056N', '15056P', '16010', '16011', '16012']\n",
    "group1_data = ok_data[ok_data.StockCode.isin(group1)]\n",
    "# group1_desc = ['SEAGULL NAPTH 25g WRNA / PCS', 'SEA GULL WARNA RENTENG', 'MANGKOK SAMBAL ALL VAR', 'SEAQULL NAPT WARNA 25GR', 'SeA GULL NAPHT 25GR SG-519W 1PCSX 1.500,00']"
   ]
  },
  {
   "cell_type": "code",
   "execution_count": 20,
   "id": "75b144ac-ccf1-47e0-9ffc-440fd35f6def",
   "metadata": {
    "tags": []
   },
   "outputs": [],
   "source": [
    "vectorizer = TfidfVectorizer(analyzer='char')\n",
    "vectors = vectorizer.fit_transform(group1_data.Description.tolist())\n",
    "# vectors = vectorizer.fit_transform(group1_desc)\n",
    "feature_names = vectorizer.get_feature_names_out()\n",
    "dense = vectors.todense()\n",
    "denselist = dense.tolist()\n",
    "df = pd.DataFrame(denselist, columns=feature_names)"
   ]
  },
  {
   "cell_type": "code",
   "execution_count": 21,
   "id": "f96425f7-febb-4382-93fa-1c5e01e6b978",
   "metadata": {
    "tags": []
   },
   "outputs": [
    {
     "data": {
      "text/html": [
       "<div>\n",
       "<style scoped>\n",
       "    .dataframe tbody tr th:only-of-type {\n",
       "        vertical-align: middle;\n",
       "    }\n",
       "\n",
       "    .dataframe tbody tr th {\n",
       "        vertical-align: top;\n",
       "    }\n",
       "\n",
       "    .dataframe thead th {\n",
       "        text-align: right;\n",
       "    }\n",
       "</style>\n",
       "<table border=\"1\" class=\"dataframe\">\n",
       "  <thead>\n",
       "    <tr style=\"text-align: right;\">\n",
       "      <th></th>\n",
       "      <th></th>\n",
       "      <th>&amp;</th>\n",
       "      <th>/</th>\n",
       "      <th>a</th>\n",
       "      <th>b</th>\n",
       "      <th>c</th>\n",
       "      <th>d</th>\n",
       "      <th>e</th>\n",
       "      <th>f</th>\n",
       "      <th>g</th>\n",
       "      <th>...</th>\n",
       "      <th>m</th>\n",
       "      <th>n</th>\n",
       "      <th>o</th>\n",
       "      <th>p</th>\n",
       "      <th>r</th>\n",
       "      <th>s</th>\n",
       "      <th>t</th>\n",
       "      <th>u</th>\n",
       "      <th>w</th>\n",
       "      <th>Description</th>\n",
       "    </tr>\n",
       "  </thead>\n",
       "  <tbody>\n",
       "    <tr>\n",
       "      <th>0</th>\n",
       "      <td>0.240888</td>\n",
       "      <td>0.000000</td>\n",
       "      <td>0.000000</td>\n",
       "      <td>0.695051</td>\n",
       "      <td>0.271331</td>\n",
       "      <td>0.160970</td>\n",
       "      <td>0.278021</td>\n",
       "      <td>0.139010</td>\n",
       "      <td>0.000000</td>\n",
       "      <td>0.000000</td>\n",
       "      <td>...</td>\n",
       "      <td>0.000000</td>\n",
       "      <td>0.120444</td>\n",
       "      <td>0.139010</td>\n",
       "      <td>0.139010</td>\n",
       "      <td>0.240888</td>\n",
       "      <td>0.120444</td>\n",
       "      <td>0.000000</td>\n",
       "      <td>0.000000</td>\n",
       "      <td>0.160970</td>\n",
       "      <td>EDWARDIAN PARASOL BLACK</td>\n",
       "    </tr>\n",
       "    <tr>\n",
       "      <th>1</th>\n",
       "      <td>0.209772</td>\n",
       "      <td>0.000000</td>\n",
       "      <td>0.000000</td>\n",
       "      <td>0.726324</td>\n",
       "      <td>0.000000</td>\n",
       "      <td>0.000000</td>\n",
       "      <td>0.242108</td>\n",
       "      <td>0.121054</td>\n",
       "      <td>0.000000</td>\n",
       "      <td>0.000000</td>\n",
       "      <td>...</td>\n",
       "      <td>0.000000</td>\n",
       "      <td>0.209772</td>\n",
       "      <td>0.121054</td>\n",
       "      <td>0.121054</td>\n",
       "      <td>0.314658</td>\n",
       "      <td>0.104886</td>\n",
       "      <td>0.163582</td>\n",
       "      <td>0.236283</td>\n",
       "      <td>0.140177</td>\n",
       "      <td>EDWARDIAN PARASOL NATURAL</td>\n",
       "    </tr>\n",
       "    <tr>\n",
       "      <th>2</th>\n",
       "      <td>0.267061</td>\n",
       "      <td>0.000000</td>\n",
       "      <td>0.000000</td>\n",
       "      <td>0.616458</td>\n",
       "      <td>0.000000</td>\n",
       "      <td>0.000000</td>\n",
       "      <td>0.308229</td>\n",
       "      <td>0.154114</td>\n",
       "      <td>0.000000</td>\n",
       "      <td>0.000000</td>\n",
       "      <td>...</td>\n",
       "      <td>0.000000</td>\n",
       "      <td>0.267061</td>\n",
       "      <td>0.154114</td>\n",
       "      <td>0.308229</td>\n",
       "      <td>0.267061</td>\n",
       "      <td>0.133531</td>\n",
       "      <td>0.000000</td>\n",
       "      <td>0.000000</td>\n",
       "      <td>0.178460</td>\n",
       "      <td>EDWARDIAN PARASOL PINK</td>\n",
       "    </tr>\n",
       "    <tr>\n",
       "      <th>3</th>\n",
       "      <td>0.241189</td>\n",
       "      <td>0.000000</td>\n",
       "      <td>0.222774</td>\n",
       "      <td>0.000000</td>\n",
       "      <td>0.000000</td>\n",
       "      <td>0.161171</td>\n",
       "      <td>0.278368</td>\n",
       "      <td>0.278368</td>\n",
       "      <td>0.222774</td>\n",
       "      <td>0.222774</td>\n",
       "      <td>...</td>\n",
       "      <td>0.000000</td>\n",
       "      <td>0.241189</td>\n",
       "      <td>0.417553</td>\n",
       "      <td>0.139184</td>\n",
       "      <td>0.241189</td>\n",
       "      <td>0.361783</td>\n",
       "      <td>0.188081</td>\n",
       "      <td>0.000000</td>\n",
       "      <td>0.000000</td>\n",
       "      <td>FOOD/DRINK SPONGE STICKERS</td>\n",
       "    </tr>\n",
       "    <tr>\n",
       "      <th>4</th>\n",
       "      <td>0.189133</td>\n",
       "      <td>0.000000</td>\n",
       "      <td>0.000000</td>\n",
       "      <td>0.436575</td>\n",
       "      <td>0.000000</td>\n",
       "      <td>0.252770</td>\n",
       "      <td>0.000000</td>\n",
       "      <td>0.218287</td>\n",
       "      <td>0.000000</td>\n",
       "      <td>0.000000</td>\n",
       "      <td>...</td>\n",
       "      <td>0.349384</td>\n",
       "      <td>0.189133</td>\n",
       "      <td>0.000000</td>\n",
       "      <td>0.000000</td>\n",
       "      <td>0.189133</td>\n",
       "      <td>0.378265</td>\n",
       "      <td>0.294974</td>\n",
       "      <td>0.000000</td>\n",
       "      <td>0.000000</td>\n",
       "      <td>ANIMAL STICKERS</td>\n",
       "    </tr>\n",
       "    <tr>\n",
       "      <th>5</th>\n",
       "      <td>0.443470</td>\n",
       "      <td>0.199806</td>\n",
       "      <td>0.163844</td>\n",
       "      <td>0.102366</td>\n",
       "      <td>0.000000</td>\n",
       "      <td>0.237074</td>\n",
       "      <td>0.102366</td>\n",
       "      <td>0.000000</td>\n",
       "      <td>0.327688</td>\n",
       "      <td>0.327688</td>\n",
       "      <td>...</td>\n",
       "      <td>0.163844</td>\n",
       "      <td>0.266082</td>\n",
       "      <td>0.204732</td>\n",
       "      <td>0.102366</td>\n",
       "      <td>0.088694</td>\n",
       "      <td>0.354776</td>\n",
       "      <td>0.000000</td>\n",
       "      <td>0.000000</td>\n",
       "      <td>0.118537</td>\n",
       "      <td>FOLDING CAMPING SCISSOR W/KNIF &amp; S</td>\n",
       "    </tr>\n",
       "  </tbody>\n",
       "</table>\n",
       "<p>6 rows × 23 columns</p>\n",
       "</div>"
      ],
      "text/plain": [
       "                    &         /         a         b         c         d   \n",
       "0  0.240888  0.000000  0.000000  0.695051  0.271331  0.160970  0.278021  \\\n",
       "1  0.209772  0.000000  0.000000  0.726324  0.000000  0.000000  0.242108   \n",
       "2  0.267061  0.000000  0.000000  0.616458  0.000000  0.000000  0.308229   \n",
       "3  0.241189  0.000000  0.222774  0.000000  0.000000  0.161171  0.278368   \n",
       "4  0.189133  0.000000  0.000000  0.436575  0.000000  0.252770  0.000000   \n",
       "5  0.443470  0.199806  0.163844  0.102366  0.000000  0.237074  0.102366   \n",
       "\n",
       "          e         f         g  ...         m         n         o         p   \n",
       "0  0.139010  0.000000  0.000000  ...  0.000000  0.120444  0.139010  0.139010  \\\n",
       "1  0.121054  0.000000  0.000000  ...  0.000000  0.209772  0.121054  0.121054   \n",
       "2  0.154114  0.000000  0.000000  ...  0.000000  0.267061  0.154114  0.308229   \n",
       "3  0.278368  0.222774  0.222774  ...  0.000000  0.241189  0.417553  0.139184   \n",
       "4  0.218287  0.000000  0.000000  ...  0.349384  0.189133  0.000000  0.000000   \n",
       "5  0.000000  0.327688  0.327688  ...  0.163844  0.266082  0.204732  0.102366   \n",
       "\n",
       "          r         s         t         u         w   \n",
       "0  0.240888  0.120444  0.000000  0.000000  0.160970  \\\n",
       "1  0.314658  0.104886  0.163582  0.236283  0.140177   \n",
       "2  0.267061  0.133531  0.000000  0.000000  0.178460   \n",
       "3  0.241189  0.361783  0.188081  0.000000  0.000000   \n",
       "4  0.189133  0.378265  0.294974  0.000000  0.000000   \n",
       "5  0.088694  0.354776  0.000000  0.000000  0.118537   \n",
       "\n",
       "                          Description  \n",
       "0             EDWARDIAN PARASOL BLACK  \n",
       "1           EDWARDIAN PARASOL NATURAL  \n",
       "2              EDWARDIAN PARASOL PINK  \n",
       "3          FOOD/DRINK SPONGE STICKERS  \n",
       "4                     ANIMAL STICKERS  \n",
       "5  FOLDING CAMPING SCISSOR W/KNIF & S  \n",
       "\n",
       "[6 rows x 23 columns]"
      ]
     },
     "execution_count": 21,
     "metadata": {},
     "output_type": "execute_result"
    }
   ],
   "source": [
    "df['Description'] = group1_data.Description.tolist()\n",
    "# df['Description'] = group1_desc\n",
    "df"
   ]
  },
  {
   "cell_type": "code",
   "execution_count": 22,
   "id": "52466643-72d1-43b0-9e39-a56df5f606bd",
   "metadata": {
    "tags": []
   },
   "outputs": [],
   "source": [
    "df = pd.merge(df, ok_data[['Description', 'StockCode']], on='Description', how='left')"
   ]
  },
  {
   "cell_type": "markdown",
   "id": "64448658-e3e6-426f-b11d-c51e1fd803f4",
   "metadata": {
    "tags": []
   },
   "source": [
    "### Cosine Similarity"
   ]
  },
  {
   "cell_type": "code",
   "execution_count": 23,
   "id": "b4efa0cd-68f5-4fb1-b95f-d0c97f2d229b",
   "metadata": {
    "tags": []
   },
   "outputs": [],
   "source": [
    "from sklearn.metrics.pairwise import cosine_similarity\n",
    "import scipy"
   ]
  },
  {
   "cell_type": "code",
   "execution_count": 24,
   "id": "3dfb7d87-b310-4160-a860-82be42c6d0c2",
   "metadata": {
    "tags": []
   },
   "outputs": [],
   "source": [
    "sparse_test = scipy.sparse.csr_matrix(df[feature_names.tolist()].values)"
   ]
  },
  {
   "cell_type": "code",
   "execution_count": 25,
   "id": "d3dce96d-172f-4de8-93e7-866d4b32bd91",
   "metadata": {
    "tags": []
   },
   "outputs": [],
   "source": [
    "cosine_sim = pd.DataFrame(cosine_similarity(sparse_test))\n",
    "cosine_sim.index = df.Description.tolist()\n",
    "cosine_sim.columns = df.Description.tolist()"
   ]
  },
  {
   "cell_type": "code",
   "execution_count": 26,
   "id": "41b682db-5ae5-4751-a7fa-7db586d726ee",
   "metadata": {
    "tags": []
   },
   "outputs": [
    {
     "data": {
      "text/html": [
       "<div>\n",
       "<style scoped>\n",
       "    .dataframe tbody tr th:only-of-type {\n",
       "        vertical-align: middle;\n",
       "    }\n",
       "\n",
       "    .dataframe tbody tr th {\n",
       "        vertical-align: top;\n",
       "    }\n",
       "\n",
       "    .dataframe thead th {\n",
       "        text-align: right;\n",
       "    }\n",
       "</style>\n",
       "<table border=\"1\" class=\"dataframe\">\n",
       "  <thead>\n",
       "    <tr style=\"text-align: right;\">\n",
       "      <th></th>\n",
       "      <th>EDWARDIAN PARASOL BLACK</th>\n",
       "      <th>EDWARDIAN PARASOL NATURAL</th>\n",
       "      <th>EDWARDIAN PARASOL PINK</th>\n",
       "      <th>FOOD/DRINK SPONGE STICKERS</th>\n",
       "      <th>ANIMAL STICKERS</th>\n",
       "      <th>FOLDING CAMPING SCISSOR W/KNIF &amp; S</th>\n",
       "    </tr>\n",
       "  </thead>\n",
       "  <tbody>\n",
       "    <tr>\n",
       "      <th>EDWARDIAN PARASOL BLACK</th>\n",
       "      <td>1.000000</td>\n",
       "      <td>0.889362</td>\n",
       "      <td>0.901933</td>\n",
       "      <td>0.475993</td>\n",
       "      <td>0.670526</td>\n",
       "      <td>0.487933</td>\n",
       "    </tr>\n",
       "    <tr>\n",
       "      <th>EDWARDIAN PARASOL NATURAL</th>\n",
       "      <td>0.889362</td>\n",
       "      <td>1.000000</td>\n",
       "      <td>0.897419</td>\n",
       "      <td>0.439579</td>\n",
       "      <td>0.662832</td>\n",
       "      <td>0.428884</td>\n",
       "    </tr>\n",
       "    <tr>\n",
       "      <th>EDWARDIAN PARASOL PINK</th>\n",
       "      <td>0.901933</td>\n",
       "      <td>0.897419</td>\n",
       "      <td>1.000000</td>\n",
       "      <td>0.584812</td>\n",
       "      <td>0.673113</td>\n",
       "      <td>0.565768</td>\n",
       "    </tr>\n",
       "    <tr>\n",
       "      <th>FOOD/DRINK SPONGE STICKERS</th>\n",
       "      <td>0.475993</td>\n",
       "      <td>0.439579</td>\n",
       "      <td>0.584812</td>\n",
       "      <td>1.000000</td>\n",
       "      <td>0.582680</td>\n",
       "      <td>0.783884</td>\n",
       "    </tr>\n",
       "    <tr>\n",
       "      <th>ANIMAL STICKERS</th>\n",
       "      <td>0.670526</td>\n",
       "      <td>0.662832</td>\n",
       "      <td>0.673113</td>\n",
       "      <td>0.582680</td>\n",
       "      <td>1.000000</td>\n",
       "      <td>0.625924</td>\n",
       "    </tr>\n",
       "    <tr>\n",
       "      <th>FOLDING CAMPING SCISSOR W/KNIF &amp; S</th>\n",
       "      <td>0.487933</td>\n",
       "      <td>0.428884</td>\n",
       "      <td>0.565768</td>\n",
       "      <td>0.783884</td>\n",
       "      <td>0.625924</td>\n",
       "      <td>1.000000</td>\n",
       "    </tr>\n",
       "  </tbody>\n",
       "</table>\n",
       "</div>"
      ],
      "text/plain": [
       "                                    EDWARDIAN PARASOL BLACK   \n",
       "EDWARDIAN PARASOL BLACK                            1.000000  \\\n",
       "EDWARDIAN PARASOL NATURAL                          0.889362   \n",
       "EDWARDIAN PARASOL PINK                             0.901933   \n",
       "FOOD/DRINK SPONGE STICKERS                         0.475993   \n",
       "ANIMAL STICKERS                                    0.670526   \n",
       "FOLDING CAMPING SCISSOR W/KNIF & S                 0.487933   \n",
       "\n",
       "                                    EDWARDIAN PARASOL NATURAL   \n",
       "EDWARDIAN PARASOL BLACK                              0.889362  \\\n",
       "EDWARDIAN PARASOL NATURAL                            1.000000   \n",
       "EDWARDIAN PARASOL PINK                               0.897419   \n",
       "FOOD/DRINK SPONGE STICKERS                           0.439579   \n",
       "ANIMAL STICKERS                                      0.662832   \n",
       "FOLDING CAMPING SCISSOR W/KNIF & S                   0.428884   \n",
       "\n",
       "                                    EDWARDIAN PARASOL PINK   \n",
       "EDWARDIAN PARASOL BLACK                           0.901933  \\\n",
       "EDWARDIAN PARASOL NATURAL                         0.897419   \n",
       "EDWARDIAN PARASOL PINK                            1.000000   \n",
       "FOOD/DRINK SPONGE STICKERS                        0.584812   \n",
       "ANIMAL STICKERS                                   0.673113   \n",
       "FOLDING CAMPING SCISSOR W/KNIF & S                0.565768   \n",
       "\n",
       "                                    FOOD/DRINK SPONGE STICKERS   \n",
       "EDWARDIAN PARASOL BLACK                               0.475993  \\\n",
       "EDWARDIAN PARASOL NATURAL                             0.439579   \n",
       "EDWARDIAN PARASOL PINK                                0.584812   \n",
       "FOOD/DRINK SPONGE STICKERS                            1.000000   \n",
       "ANIMAL STICKERS                                       0.582680   \n",
       "FOLDING CAMPING SCISSOR W/KNIF & S                    0.783884   \n",
       "\n",
       "                                    ANIMAL STICKERS   \n",
       "EDWARDIAN PARASOL BLACK                    0.670526  \\\n",
       "EDWARDIAN PARASOL NATURAL                  0.662832   \n",
       "EDWARDIAN PARASOL PINK                     0.673113   \n",
       "FOOD/DRINK SPONGE STICKERS                 0.582680   \n",
       "ANIMAL STICKERS                            1.000000   \n",
       "FOLDING CAMPING SCISSOR W/KNIF & S         0.625924   \n",
       "\n",
       "                                    FOLDING CAMPING SCISSOR W/KNIF & S  \n",
       "EDWARDIAN PARASOL BLACK                                       0.487933  \n",
       "EDWARDIAN PARASOL NATURAL                                     0.428884  \n",
       "EDWARDIAN PARASOL PINK                                        0.565768  \n",
       "FOOD/DRINK SPONGE STICKERS                                    0.783884  \n",
       "ANIMAL STICKERS                                               0.625924  \n",
       "FOLDING CAMPING SCISSOR W/KNIF & S                            1.000000  "
      ]
     },
     "execution_count": 26,
     "metadata": {},
     "output_type": "execute_result"
    }
   ],
   "source": [
    "cosine_sim"
   ]
  },
  {
   "cell_type": "markdown",
   "id": "dcb29412-824d-49b6-a545-0354889e34d8",
   "metadata": {},
   "source": [
    "We can see that this baseline method only works for very clean product names. It can find the odd product name from a group of a few items. However for messier data, it will do badly.\n",
    "\n",
    "It performs badly when:\n",
    "* there are spelling errors\n",
    "* random spaces\n",
    "* quantity in product name\n",
    "* noise"
   ]
  },
  {
   "cell_type": "markdown",
   "id": "2075bdd3-2268-4289-81df-e533f4844988",
   "metadata": {},
   "source": [
    "## Spacy NER"
   ]
  },
  {
   "cell_type": "code",
   "execution_count": null,
   "id": "627bbbb9-fb86-44b1-b7b0-e6cf177216da",
   "metadata": {},
   "outputs": [
    {
     "name": "stderr",
     "output_type": "stream",
     "text": [
      "C:\\Users\\ansel\\anaconda3\\envs\\eyos\\lib\\site-packages\\tqdm\\auto.py:21: TqdmWarning: IProgress not found. Please update jupyter and ipywidgets. See https://ipywidgets.readthedocs.io/en/stable/user_install.html\n",
      "  from .autonotebook import tqdm as notebook_tqdm\n"
     ]
    }
   ],
   "source": [
    "import spacy\n",
    "from spacy import displacy\n",
    "\n",
    "NER = spacy.load(\"en_core_web_lg\")"
   ]
  },
  {
   "cell_type": "code",
   "execution_count": null,
   "id": "4686bcc5-015b-4328-a6a0-6ff11ca8170f",
   "metadata": {},
   "outputs": [
    {
     "data": {
      "text/plain": [
       "'cream cupid hearts coat hanger'"
      ]
     },
     "execution_count": 46,
     "metadata": {},
     "output_type": "execute_result"
    }
   ],
   "source": [
    "example = ok_data.iloc[2]['Description'].lower()\n",
    "example"
   ]
  },
  {
   "cell_type": "code",
   "execution_count": null,
   "id": "95c00ede-d029-4fb4-bd20-aa7b4890786c",
   "metadata": {},
   "outputs": [],
   "source": [
    "raw_text=\"The Indian Space Research Organisation or is the national space agency of India, headquartered in Bengaluru. It operates under Department of Space which is directly overseen by the Prime Minister of India while Chairman of ISRO acts as executive of DOS as well.\"\n",
    "raw_text = raw_text.lower()\n",
    "text1 = NER(example)"
   ]
  },
  {
   "cell_type": "code",
   "execution_count": null,
   "id": "c82e3141-fea7-43b1-84ad-f1a58a7ae985",
   "metadata": {},
   "outputs": [],
   "source": [
    "for word in text1.ents:\n",
    "    print(word.text,word.label_)"
   ]
  },
  {
   "cell_type": "code",
   "execution_count": null,
   "id": "1c383d2e-60d0-46bf-8dc5-39b678f0eb4e",
   "metadata": {},
   "outputs": [
    {
     "data": {
      "text/plain": [
       "()"
      ]
     },
     "execution_count": 49,
     "metadata": {},
     "output_type": "execute_result"
    }
   ],
   "source": [
    "text1.ents"
   ]
  },
  {
   "cell_type": "markdown",
   "id": "68352f06-146c-4dd2-b5d2-f2537863f19f",
   "metadata": {
    "tags": []
   },
   "source": [
    "## NLTK NER"
   ]
  },
  {
   "cell_type": "code",
   "execution_count": 51,
   "id": "63c78f93-79c2-46b0-b0f6-8fdfd95590eb",
   "metadata": {},
   "outputs": [
    {
     "data": {
      "text/plain": [
       "'cream cupid hearts coat hanger'"
      ]
     },
     "execution_count": 51,
     "metadata": {},
     "output_type": "execute_result"
    }
   ],
   "source": [
    "example = ok_data.iloc[2]['Description'].lower()\n",
    "example"
   ]
  },
  {
   "cell_type": "code",
   "execution_count": 54,
   "id": "f9c3e582-8a58-4925-8374-db99ae8cd77d",
   "metadata": {
    "tags": []
   },
   "outputs": [
    {
     "name": "stdout",
     "output_type": "stream",
     "text": [
      "Collecting nltk\n",
      "  Downloading nltk-3.8.1-py3-none-any.whl (1.5 MB)\n",
      "     ---------------------------------------- 0.0/1.5 MB ? eta -:--:--\n",
      "     ------ --------------------------------- 0.2/1.5 MB 7.4 MB/s eta 0:00:01\n",
      "     --------------- ------------------------ 0.6/1.5 MB 7.1 MB/s eta 0:00:01\n",
      "     ----------------------- ---------------- 0.9/1.5 MB 6.9 MB/s eta 0:00:01\n",
      "     ----------------------------- ---------- 1.1/1.5 MB 6.5 MB/s eta 0:00:01\n",
      "     -------------------------------------- - 1.4/1.5 MB 6.5 MB/s eta 0:00:01\n",
      "     ---------------------------------------- 1.5/1.5 MB 6.4 MB/s eta 0:00:00\n",
      "Requirement already satisfied: click in c:\\users\\ansel\\anaconda3\\envs\\eyos\\lib\\site-packages (from nltk) (8.1.3)\n",
      "Requirement already satisfied: tqdm in c:\\users\\ansel\\anaconda3\\envs\\eyos\\lib\\site-packages (from nltk) (4.65.0)\n",
      "Requirement already satisfied: joblib in c:\\users\\ansel\\anaconda3\\envs\\eyos\\lib\\site-packages (from nltk) (1.2.0)\n",
      "Requirement already satisfied: regex>=2021.8.3 in c:\\users\\ansel\\anaconda3\\envs\\eyos\\lib\\site-packages (from nltk) (2023.5.5)\n",
      "Requirement already satisfied: colorama in c:\\users\\ansel\\anaconda3\\envs\\eyos\\lib\\site-packages (from click->nltk) (0.4.6)\n",
      "Installing collected packages: nltk\n",
      "Successfully installed nltk-3.8.1\n"
     ]
    }
   ],
   "source": [
    "!pip install nltk"
   ]
  },
  {
   "cell_type": "code",
   "execution_count": 55,
   "id": "b4564a0a-f4d7-473f-8691-1bda3a27a11c",
   "metadata": {
    "tags": []
   },
   "outputs": [
    {
     "name": "stderr",
     "output_type": "stream",
     "text": [
      "[nltk_data] Downloading package punkt to\n",
      "[nltk_data]     C:\\Users\\ansel\\AppData\\Roaming\\nltk_data...\n",
      "[nltk_data]   Unzipping tokenizers\\punkt.zip.\n",
      "[nltk_data] Downloading package averaged_perceptron_tagger to\n",
      "[nltk_data]     C:\\Users\\ansel\\AppData\\Roaming\\nltk_data...\n",
      "[nltk_data]   Unzipping taggers\\averaged_perceptron_tagger.zip.\n",
      "[nltk_data] Downloading package maxent_ne_chunker to\n",
      "[nltk_data]     C:\\Users\\ansel\\AppData\\Roaming\\nltk_data...\n",
      "[nltk_data]   Unzipping chunkers\\maxent_ne_chunker.zip.\n",
      "[nltk_data] Downloading package words to\n",
      "[nltk_data]     C:\\Users\\ansel\\AppData\\Roaming\\nltk_data...\n",
      "[nltk_data]   Unzipping corpora\\words.zip.\n"
     ]
    },
    {
     "data": {
      "text/plain": [
       "set()"
      ]
     },
     "execution_count": 55,
     "metadata": {},
     "output_type": "execute_result"
    }
   ],
   "source": [
    "import nltk\n",
    "nltk.download('punkt')\n",
    "nltk.download('averaged_perceptron_tagger')\n",
    "nltk.download('maxent_ne_chunker')\n",
    "nltk.download('words')\n",
    "{(' '.join(c[0] for c in chunk), chunk.label() ) for chunk in nltk.ne_chunk(nltk.pos_tag(nltk.word_tokenize(example))) if hasattr(chunk, 'label') }"
   ]
  },
  {
   "cell_type": "markdown",
   "id": "c4cdfff7-79bb-4fe6-8269-b703b03d3db2",
   "metadata": {},
   "source": [
    "## StanfordNLP NER"
   ]
  },
  {
   "cell_type": "code",
   "execution_count": null,
   "id": "7fc1ee31-d98e-4c11-aeb4-aac6470b179a",
   "metadata": {},
   "outputs": [],
   "source": []
  },
  {
   "cell_type": "code",
   "execution_count": 56,
   "id": "6e7530a1-48c2-45c9-a25d-0e87023cb7f6",
   "metadata": {
    "tags": []
   },
   "outputs": [
    {
     "name": "stdout",
     "output_type": "stream",
     "text": [
      "Collecting nltk==3.2.4\n",
      "  Downloading nltk-3.2.4.tar.gz (1.2 MB)\n",
      "     ---------------------------------------- 0.0/1.2 MB ? eta -:--:--\n",
      "     ----------- ---------------------------- 0.3/1.2 MB 10.2 MB/s eta 0:00:01\n",
      "     ------------------------------------ --- 1.1/1.2 MB 13.4 MB/s eta 0:00:01\n",
      "     ---------------------------------------- 1.2/1.2 MB 10.5 MB/s eta 0:00:00\n",
      "  Preparing metadata (setup.py): started\n",
      "  Preparing metadata (setup.py): finished with status 'done'\n",
      "Requirement already satisfied: six in c:\\users\\ansel\\anaconda3\\envs\\eyos\\lib\\site-packages (from nltk==3.2.4) (1.16.0)\n",
      "Building wheels for collected packages: nltk\n",
      "  Building wheel for nltk (setup.py): started\n",
      "  Building wheel for nltk (setup.py): finished with status 'done'\n",
      "  Created wheel for nltk: filename=nltk-3.2.4-py3-none-any.whl size=1367721 sha256=8c9972e3b4ba7426417662298eaba1f642cb7ebaeb3fb489161e7007abcfff54\n",
      "  Stored in directory: c:\\users\\ansel\\appdata\\local\\pip\\cache\\wheels\\0e\\8c\\42\\bcd0934b61ecf4cef964ccc9881888cca0841ec72266e99de1\n",
      "Successfully built nltk\n",
      "Installing collected packages: nltk\n",
      "  Attempting uninstall: nltk\n",
      "    Found existing installation: nltk 3.8.1\n",
      "    Uninstalling nltk-3.8.1:\n",
      "      Successfully uninstalled nltk-3.8.1\n",
      "Successfully installed nltk-3.2.4\n"
     ]
    },
    {
     "name": "stderr",
     "output_type": "stream",
     "text": [
      "'wget' is not recognized as an internal or external command,\n",
      "operable program or batch file.\n",
      "'unzip' is not recognized as an internal or external command,\n",
      "operable program or batch file.\n"
     ]
    },
    {
     "ename": "LookupError",
     "evalue": "Could not find stanford-ner.jar jar file at stanford-ner-2015-04-20/stanford-ner-3.5.2.jar",
     "output_type": "error",
     "traceback": [
      "\u001b[1;31m---------------------------------------------------------------------------\u001b[0m",
      "\u001b[1;31mLookupError\u001b[0m                               Traceback (most recent call last)",
      "Cell \u001b[1;32mIn[56], line 7\u001b[0m\n\u001b[0;32m      5\u001b[0m jar \u001b[38;5;241m=\u001b[39m \u001b[38;5;124m\"\u001b[39m\u001b[38;5;124mstanford-ner-2015-04-20/stanford-ner-3.5.2.jar\u001b[39m\u001b[38;5;124m\"\u001b[39m\n\u001b[0;32m      6\u001b[0m model \u001b[38;5;241m=\u001b[39m \u001b[38;5;124m\"\u001b[39m\u001b[38;5;124mstanford-ner-2015-04-20/classifiers/\u001b[39m\u001b[38;5;124m\"\u001b[39m \n\u001b[1;32m----> 7\u001b[0m st_3class \u001b[38;5;241m=\u001b[39m \u001b[43mStanfordNERTagger\u001b[49m\u001b[43m(\u001b[49m\u001b[43mmodel\u001b[49m\u001b[43m \u001b[49m\u001b[38;5;241;43m+\u001b[39;49m\u001b[43m \u001b[49m\u001b[38;5;124;43m\"\u001b[39;49m\u001b[38;5;124;43menglish.all.3class.distsim.crf.ser.gz\u001b[39;49m\u001b[38;5;124;43m\"\u001b[39;49m\u001b[43m,\u001b[49m\u001b[43m \u001b[49m\u001b[43mjar\u001b[49m\u001b[43m,\u001b[49m\u001b[43m \u001b[49m\u001b[43mencoding\u001b[49m\u001b[38;5;241;43m=\u001b[39;49m\u001b[38;5;124;43m'\u001b[39;49m\u001b[38;5;124;43mutf8\u001b[39;49m\u001b[38;5;124;43m'\u001b[39;49m\u001b[43m)\u001b[49m \n\u001b[0;32m      8\u001b[0m st_4class \u001b[38;5;241m=\u001b[39m StanfordNERTagger(model \u001b[38;5;241m+\u001b[39m \u001b[38;5;124m\"\u001b[39m\u001b[38;5;124menglish.conll.4class.distsim.crf.ser.gz\u001b[39m\u001b[38;5;124m\"\u001b[39m, jar, encoding\u001b[38;5;241m=\u001b[39m\u001b[38;5;124m'\u001b[39m\u001b[38;5;124mutf8\u001b[39m\u001b[38;5;124m'\u001b[39m) \n\u001b[0;32m      9\u001b[0m st_7class \u001b[38;5;241m=\u001b[39m StanfordNERTagger(model \u001b[38;5;241m+\u001b[39m \u001b[38;5;124m\"\u001b[39m\u001b[38;5;124menglish.muc.7class.distsim.crf.ser.gz\u001b[39m\u001b[38;5;124m\"\u001b[39m, jar, encoding\u001b[38;5;241m=\u001b[39m\u001b[38;5;124m'\u001b[39m\u001b[38;5;124mutf8\u001b[39m\u001b[38;5;124m'\u001b[39m)\n",
      "File \u001b[1;32m~\\anaconda3\\envs\\eyos\\lib\\site-packages\\nltk\\tag\\stanford.py:200\u001b[0m, in \u001b[0;36m__init__\u001b[1;34m(self, *args, **kwargs)\u001b[0m\n\u001b[0;32m    198\u001b[0m result \u001b[38;5;241m=\u001b[39m []\n\u001b[0;32m    199\u001b[0m start \u001b[38;5;241m=\u001b[39m \u001b[38;5;241m0\u001b[39m\n\u001b[1;32m--> 200\u001b[0m \u001b[38;5;28;01mfor\u001b[39;00m sent \u001b[38;5;129;01min\u001b[39;00m sentences:\n\u001b[0;32m    201\u001b[0m     result\u001b[38;5;241m.\u001b[39mappend(tagged_sentences[start:start \u001b[38;5;241m+\u001b[39m \u001b[38;5;28mlen\u001b[39m(sent)])\n\u001b[0;32m    202\u001b[0m     start \u001b[38;5;241m+\u001b[39m\u001b[38;5;241m=\u001b[39m \u001b[38;5;28mlen\u001b[39m(sent)\n",
      "File \u001b[1;32m~\\anaconda3\\envs\\eyos\\lib\\site-packages\\nltk\\tag\\stanford.py:70\u001b[0m, in \u001b[0;36m__init__\u001b[1;34m(self, model_filename, path_to_jar, encoding, verbose, java_options)\u001b[0m\n\u001b[0;32m     67\u001b[0m \u001b[38;5;129m@property\u001b[39m\n\u001b[0;32m     68\u001b[0m \u001b[38;5;129m@abstractmethod\u001b[39m\n\u001b[0;32m     69\u001b[0m \u001b[38;5;28;01mdef\u001b[39;00m \u001b[38;5;21m_cmd\u001b[39m(\u001b[38;5;28mself\u001b[39m):\n\u001b[1;32m---> 70\u001b[0m \u001b[38;5;250m    \u001b[39m\u001b[38;5;124;03m\"\"\"\u001b[39;00m\n\u001b[0;32m     71\u001b[0m \u001b[38;5;124;03m    A property that returns the command that will be executed.\u001b[39;00m\n\u001b[0;32m     72\u001b[0m \u001b[38;5;124;03m    \"\"\"\u001b[39;00m\n",
      "File \u001b[1;32m~\\anaconda3\\envs\\eyos\\lib\\site-packages\\nltk\\internals.py:833\u001b[0m, in \u001b[0;36mfind_jar\u001b[1;34m(name_pattern, path_to_jar, env_vars, searchpath, url, verbose, is_regex)\u001b[0m\n\u001b[0;32m    827\u001b[0m     \u001b[38;5;28;01mreturn\u001b[39;00m ElementTree\u001b[38;5;241m.\u001b[39mtostring(\u001b[38;5;28mself\u001b[39m\u001b[38;5;241m.\u001b[39m_etree, encoding\u001b[38;5;241m=\u001b[39m\u001b[38;5;124m'\u001b[39m\u001b[38;5;124mutf8\u001b[39m\u001b[38;5;124m'\u001b[39m)\u001b[38;5;241m.\u001b[39mdecode(\u001b[38;5;124m'\u001b[39m\u001b[38;5;124mutf8\u001b[39m\u001b[38;5;124m'\u001b[39m)\u001b[38;5;241m.\u001b[39mrstrip()\n\u001b[0;32m    829\u001b[0m \u001b[38;5;66;03m##////////////////////////////////////////////////////////////\u001b[39;00m\n\u001b[0;32m    830\u001b[0m \u001b[38;5;66;03m#{ Element interface Delegation (pass-through)\u001b[39;00m\n\u001b[0;32m    831\u001b[0m \u001b[38;5;66;03m##////////////////////////////////////////////////////////////\u001b[39;00m\n\u001b[1;32m--> 833\u001b[0m \u001b[38;5;28;01mdef\u001b[39;00m \u001b[38;5;21m__getattr__\u001b[39m(\u001b[38;5;28mself\u001b[39m, attrib):\n\u001b[0;32m    834\u001b[0m     \u001b[38;5;28;01mreturn\u001b[39;00m \u001b[38;5;28mgetattr\u001b[39m(\u001b[38;5;28mself\u001b[39m\u001b[38;5;241m.\u001b[39m_etree, attrib)\n\u001b[0;32m    836\u001b[0m \u001b[38;5;28;01mdef\u001b[39;00m \u001b[38;5;21m__setattr__\u001b[39m(\u001b[38;5;28mself\u001b[39m, attr, value):\n",
      "File \u001b[1;32m~\\anaconda3\\envs\\eyos\\lib\\site-packages\\nltk\\internals.py:719\u001b[0m, in \u001b[0;36mfind_jar_iter\u001b[1;34m(name_pattern, path_to_jar, env_vars, searchpath, url, verbose, is_regex)\u001b[0m\n\u001b[0;32m    715\u001b[0m         div \u001b[38;5;241m=\u001b[39m \u001b[38;5;124m'\u001b[39m\u001b[38;5;124m=\u001b[39m\u001b[38;5;124m'\u001b[39m\u001b[38;5;241m*\u001b[39m\u001b[38;5;241m75\u001b[39m\n\u001b[0;32m    716\u001b[0m         \u001b[38;5;28;01mraise\u001b[39;00m \u001b[38;5;167;01mLookupError\u001b[39;00m(\u001b[38;5;124m'\u001b[39m\u001b[38;5;130;01m\\n\u001b[39;00m\u001b[38;5;130;01m\\n\u001b[39;00m\u001b[38;5;132;01m%s\u001b[39;00m\u001b[38;5;130;01m\\n\u001b[39;00m\u001b[38;5;132;01m%s\u001b[39;00m\u001b[38;5;130;01m\\n\u001b[39;00m\u001b[38;5;132;01m%s\u001b[39;00m\u001b[38;5;124m'\u001b[39m \u001b[38;5;241m%\u001b[39m (div, msg, div))\n\u001b[0;32m    718\u001b[0m \u001b[38;5;28;01mdef\u001b[39;00m \u001b[38;5;21mfind_jar\u001b[39m(name_pattern, path_to_jar\u001b[38;5;241m=\u001b[39m\u001b[38;5;28;01mNone\u001b[39;00m, env_vars\u001b[38;5;241m=\u001b[39m(),\n\u001b[1;32m--> 719\u001b[0m         searchpath\u001b[38;5;241m=\u001b[39m(), url\u001b[38;5;241m=\u001b[39m\u001b[38;5;28;01mNone\u001b[39;00m, verbose\u001b[38;5;241m=\u001b[39m\u001b[38;5;28;01mFalse\u001b[39;00m, is_regex\u001b[38;5;241m=\u001b[39m\u001b[38;5;28;01mFalse\u001b[39;00m):\n\u001b[0;32m    720\u001b[0m     \u001b[38;5;28;01mreturn\u001b[39;00m \u001b[38;5;28mnext\u001b[39m(find_jar_iter(name_pattern, path_to_jar, env_vars,\n\u001b[0;32m    721\u001b[0m                          searchpath, url, verbose, is_regex))\n\u001b[0;32m    724\u001b[0m \u001b[38;5;28;01mdef\u001b[39;00m \u001b[38;5;21mfind_jars_within_path\u001b[39m(path_to_jars):\n",
      "\u001b[1;31mLookupError\u001b[0m: Could not find stanford-ner.jar jar file at stanford-ner-2015-04-20/stanford-ner-3.5.2.jar"
     ]
    }
   ],
   "source": [
    "!pip3 install nltk==3.2.4\n",
    "!wget http://nlp.stanford.edu/software/stanford-ner-2015-04-20.zip\n",
    "!unzip stanford-ner-2015-04-20.zip\n",
    "from nltk.tag.stanford import StanfordNERTagger\n",
    "jar = \"stanford-ner-2015-04-20/stanford-ner-3.5.2.jar\"\n",
    "model = \"stanford-ner-2015-04-20/classifiers/\" \n",
    "st_3class = StanfordNERTagger(model + \"english.all.3class.distsim.crf.ser.gz\", jar, encoding='utf8') \n",
    "st_4class = StanfordNERTagger(model + \"english.conll.4class.distsim.crf.ser.gz\", jar, encoding='utf8') \n",
    "st_7class = StanfordNERTagger(model + \"english.muc.7class.distsim.crf.ser.gz\", jar, encoding='utf8')\n",
    "st_3class.tag(example.split())\n",
    "st_4class.tag(example.split())\n",
    "st_7class.tag(example.split())"
   ]
  },
  {
   "cell_type": "code",
   "execution_count": null,
   "id": "f2f09a5e-df0b-4f6b-8921-a806c85ea196",
   "metadata": {},
   "outputs": [],
   "source": []
  }
 ],
 "metadata": {
  "kernelspec": {
   "display_name": "eyos",
   "language": "python",
   "name": "eyos"
  },
  "language_info": {
   "codemirror_mode": {
    "name": "ipython",
    "version": 3
   },
   "file_extension": ".py",
   "mimetype": "text/x-python",
   "name": "python",
   "nbconvert_exporter": "python",
   "pygments_lexer": "ipython3",
   "version": "3.10.11"
  }
 },
 "nbformat": 4,
 "nbformat_minor": 5
}
