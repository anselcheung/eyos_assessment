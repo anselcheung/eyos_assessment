{
 "cells": [
  {
   "cell_type": "markdown",
   "id": "f5857d13-b50e-4d85-affd-1ec51654b3f9",
   "metadata": {},
   "source": [
    "# Data Creation"
   ]
  },
  {
   "cell_type": "code",
   "execution_count": 4,
   "id": "904d5340-c7f8-4034-b109-ecf916aa3e01",
   "metadata": {
    "tags": []
   },
   "outputs": [],
   "source": [
    "from faker import Faker\n",
    "faker = Faker()"
   ]
  },
  {
   "cell_type": "markdown",
   "id": "c20e664c-16c7-4b39-8f63-b6d10498aa9f",
   "metadata": {},
   "source": [
    "### Company/Brand"
   ]
  },
  {
   "cell_type": "code",
   "execution_count": 5,
   "id": "7945ad5c-81bd-4f15-98ae-1d2e39108db9",
   "metadata": {
    "tags": []
   },
   "outputs": [
    {
     "data": {
      "text/plain": [
       "'Porter-King'"
      ]
     },
     "execution_count": 5,
     "metadata": {},
     "output_type": "execute_result"
    }
   ],
   "source": [
    "# brand use faker.providers.company\n",
    "faker.company()"
   ]
  },
  {
   "cell_type": "markdown",
   "id": "c2f65afd-0b47-44c5-96aa-f2ba3af5328e",
   "metadata": {},
   "source": [
    "### Barcode"
   ]
  },
  {
   "cell_type": "code",
   "execution_count": 6,
   "id": "57ba10a9-36ed-460c-8049-a5522115b632",
   "metadata": {
    "tags": []
   },
   "outputs": [
    {
     "data": {
      "text/plain": [
       "'2012636136785'"
      ]
     },
     "execution_count": 6,
     "metadata": {},
     "output_type": "execute_result"
    }
   ],
   "source": [
    "# barcode use faker.providers.barcode\n",
    "faker.ean(length=13)"
   ]
  },
  {
   "cell_type": "markdown",
   "id": "ba1298b0-6ffa-44b7-a1f8-9b5b8d7f42d6",
   "metadata": {},
   "source": [
    "### Product Name"
   ]
  },
  {
   "cell_type": "code",
   "execution_count": 7,
   "id": "09546b5f-381b-4349-8294-a835b4b99607",
   "metadata": {
    "tags": []
   },
   "outputs": [],
   "source": [
    "# for product name\n",
    "import faker_commerce"
   ]
  },
  {
   "cell_type": "code",
   "execution_count": 8,
   "id": "1e016f77-5afc-441e-abd2-a6c89c17db33",
   "metadata": {
    "tags": []
   },
   "outputs": [],
   "source": [
    "faker.add_provider(faker_commerce.Provider)"
   ]
  },
  {
   "cell_type": "code",
   "execution_count": 18,
   "id": "74fb88b4-cac9-45ee-9327-c1f86ce533e1",
   "metadata": {
    "tags": []
   },
   "outputs": [
    {
     "name": "stdout",
     "output_type": "stream",
     "text": [
      "Car\n",
      "Generic Pants\n",
      "Handcrafted Pizza\n",
      "Ergonomic Steel Pants\n",
      "Gorgeous Hat\n",
      "Frozen Gloves\n",
      "Plastic Table\n",
      "Generic Wooden Bacon\n",
      "Used Chair\n",
      "Concrete Chicken\n",
      "Cotton Sausages\n",
      "Unbranded Rubber Tuna\n",
      "Fresh Tuna\n",
      "Fresh Towels\n",
      "Bacon\n",
      "Ergonomic Shoes\n",
      "Table\n",
      "Towels\n",
      "Bacon\n",
      "Incredible Pants\n"
     ]
    }
   ],
   "source": [
    "for i in range(20):\n",
    "    print(faker.ecommerce_name())"
   ]
  },
  {
   "cell_type": "markdown",
   "id": "428b4a36-2540-41e3-8106-e4711507a99c",
   "metadata": {},
   "source": [
    "### Color"
   ]
  },
  {
   "cell_type": "code",
   "execution_count": 27,
   "id": "6b593038-5861-4770-9cfa-89a6618b8fff",
   "metadata": {
    "tags": []
   },
   "outputs": [
    {
     "name": "stdout",
     "output_type": "stream",
     "text": [
      "teal\n",
      "lime\n",
      "purple\n",
      "silver\n",
      "maroon\n",
      "black\n",
      "navy\n",
      "purple\n",
      "olive\n",
      "white\n"
     ]
    }
   ],
   "source": [
    "# color\n",
    "for i in range(10):\n",
    "    print(faker.safe_color_name())"
   ]
  },
  {
   "cell_type": "markdown",
   "id": "57c1702c-8971-4984-8b99-4ff80c14a3d7",
   "metadata": {},
   "source": [
    "### Quantity"
   ]
  },
  {
   "cell_type": "code",
   "execution_count": 15,
   "id": "5d6aa644-294a-41f3-816f-11145eaaeef5",
   "metadata": {
    "tags": []
   },
   "outputs": [],
   "source": [
    "# quantity\n",
    "import random"
   ]
  },
  {
   "cell_type": "code",
   "execution_count": 17,
   "id": "be68de20-6861-4037-88b2-449fc41232ff",
   "metadata": {
    "tags": []
   },
   "outputs": [
    {
     "data": {
      "text/plain": [
       "804"
      ]
     },
     "execution_count": 17,
     "metadata": {},
     "output_type": "execute_result"
    }
   ],
   "source": [
    "random.randint(1,1000)"
   ]
  },
  {
   "cell_type": "code",
   "execution_count": 28,
   "id": "820a5768-4b08-4ba1-8741-6fe09713b658",
   "metadata": {
    "tags": []
   },
   "outputs": [
    {
     "data": {
      "text/plain": [
       "'cm'"
      ]
     },
     "execution_count": 28,
     "metadata": {},
     "output_type": "execute_result"
    }
   ],
   "source": [
    "# unit of measurement\n",
    "random.choice(['pcs', 'items', 'gr', 'kg', 'm', 'mm', 'cm', 'combo'])"
   ]
  },
  {
   "cell_type": "code",
   "execution_count": 34,
   "id": "4439bec4-0e54-46cf-b1b6-b2fb33b0e4cc",
   "metadata": {
    "tags": []
   },
   "outputs": [
    {
     "name": "stdout",
     "output_type": "stream",
     "text": [
      "Item 4988608104596: Gonzalez Group gray Handmade Salad 451kg\n",
      "Item 6836911581482: Garner-Rasmussen teal Fresh Soap 754mm\n",
      "Item 3305530457797: Costa, Bright and Parker aqua Handcrafted Chicken 699cm\n",
      "Item 9863501107927: Vazquez-Coleman gray Awesome Wooden Sausages 799kg\n",
      "Item 6776444548296: Foster, Rice and Arnold blue Gloves 555m\n",
      "Item 0215731091054: Campbell, Larson and Obrien green Tasty Wooden Table 809gr\n",
      "Item 2161642046813: Vega LLC gray Concrete Bacon 547gr\n",
      "Item 4340901808760: Price Ltd navy Wooden Shoes 587gr\n",
      "Item 4406632709377: Perry LLC fuchsia Awesome Soft Chair 719kg\n",
      "Item 1348034956580: Baker, Ward and Lucero yellow Computer 334items\n",
      "Item 4658943966325: Baker, Reed and Stewart aqua Incredible Soft Tuna 69items\n",
      "Item 7614480200480: Gonzales, Mitchell and Knox gray Salad 505mm\n",
      "Item 3758076859509: Shaffer-Guerrero silver Sausages 847gr\n",
      "Item 6683036938543: Elliott-Matthews aqua Incredible Car 986cm\n",
      "Item 7614594769606: Reynolds-Meyer fuchsia Table 848mm\n",
      "Item 5145556187647: Bates, Marks and Friedman black Incredible Ball 989gr\n",
      "Item 7077119788337: Moss, Reyes and Lewis purple Fantastic Frozen Chair 850pcs\n",
      "Item 3220079760804: Romero, Duncan and Goodwin black New Plastic Table 460items\n",
      "Item 2040259853239: Bean LLC white Practical Metal Tuna 11cm\n",
      "Item 8453737370908: Hill LLC green Metal Towels 571m\n"
     ]
    }
   ],
   "source": [
    "# altogether\n",
    "for i in range(20):\n",
    "    barcode = faker.ean(length=13)\n",
    "    brand = faker.company()\n",
    "    color = faker.safe_color_name()\n",
    "    prod_name = faker.ecommerce_name()\n",
    "    qty = random.randint(1,1000)\n",
    "    unit = random.choice(['pcs', 'items', 'gr', 'kg', 'm', 'mm', 'cm'])\n",
    "    print(f\"Item {barcode}: {brand} {color} {prod_name} {qty}{unit}\")"
   ]
  },
  {
   "cell_type": "markdown",
   "id": "42c9f9fe-02f4-40d4-a674-a0ee414a0c0f",
   "metadata": {},
   "source": [
    "## Create dataframe"
   ]
  },
  {
   "cell_type": "code",
   "execution_count": null,
   "id": "1451f31d-77eb-4e26-8b7b-8bd28703e8ce",
   "metadata": {},
   "outputs": [],
   "source": []
  }
 ],
 "metadata": {
  "kernelspec": {
   "display_name": "eyos",
   "language": "python",
   "name": "eyos"
  },
  "language_info": {
   "codemirror_mode": {
    "name": "ipython",
    "version": 3
   },
   "file_extension": ".py",
   "mimetype": "text/x-python",
   "name": "python",
   "nbconvert_exporter": "python",
   "pygments_lexer": "ipython3",
   "version": "3.10.11"
  }
 },
 "nbformat": 4,
 "nbformat_minor": 5
}
